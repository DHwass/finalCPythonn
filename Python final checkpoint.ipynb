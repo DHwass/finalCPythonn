{
 "cells": [
  {
   "cell_type": "code",
   "execution_count": 3,
   "id": "7e681156",
   "metadata": {},
   "outputs": [
    {
     "name": "stdout",
     "output_type": "stream",
     "text": [
      "-10\n",
      "-9\n",
      "-8\n",
      "-7\n",
      "-6\n",
      "-5\n",
      "-4\n",
      "-3\n",
      "-2\n",
      "-1\n"
     ]
    }
   ],
   "source": [
    "#1\n",
    "for i in range(-10,0,1):\n",
    "    print (i)"
   ]
  },
  {
   "cell_type": "code",
   "execution_count": 18,
   "id": "b44af060",
   "metadata": {},
   "outputs": [
    {
     "name": "stdout",
     "output_type": "stream",
     "text": [
      "Entrez votre numero 23131\n",
      "5\n"
     ]
    }
   ],
   "source": [
    "#2\n",
    "number=\"432\"\n",
    "nombre=str(input(\"Entrez votre numero \"))\n",
    "print(len(nombre))\n",
    "\n"
   ]
  },
  {
   "cell_type": "code",
   "execution_count": 23,
   "id": "29fbcdb1",
   "metadata": {},
   "outputs": [
    {
     "name": "stdout",
     "output_type": "stream",
     "text": [
      "Entrez votre numero3\n",
      "le cube de votre numero est 27\n"
     ]
    }
   ],
   "source": [
    "#3\n",
    "numero=int(input(\"Entrez votre numero\"))\n",
    "numero_cube=pow(numero,3)\n",
    "print(\"le cube de votre numero est \" + str(numero_cube))"
   ]
  },
  {
   "cell_type": "code",
   "execution_count": 28,
   "id": "cb328b89",
   "metadata": {},
   "outputs": [
    {
     "name": "stdout",
     "output_type": "stream",
     "text": [
      "Entrez le premier numero300\n",
      "Entrez le deuxieme numero288\n",
      "588\n"
     ]
    }
   ],
   "source": [
    "#4\n",
    "n1=int(input(\"Entrez le premier numero\"))\n",
    "n2=int(input(\"Entrez le deuxieme numero\"))\n",
    "prod=n1*n2\n",
    "if(prod>1000):\n",
    "    print (n1+n2)\n",
    "else:\n",
    "    print(prod)\n"
   ]
  },
  {
   "cell_type": "code",
   "execution_count": 30,
   "id": "23a8e2fc",
   "metadata": {},
   "outputs": [
    {
     "name": "stdout",
     "output_type": "stream",
     "text": [
      "True\n"
     ]
    }
   ],
   "source": [
    "#5\n",
    "list_numbers=[1,4,5,1,3,54,232,23,31,1]\n",
    "if(list_numbers[0]==list_numbers[-1]):\n",
    "    print(True)\n",
    "else: \n",
    "    print(False)"
   ]
  },
  {
   "cell_type": "code",
   "execution_count": 32,
   "id": "496df33c",
   "metadata": {},
   "outputs": [
    {
     "name": "stdout",
     "output_type": "stream",
     "text": [
      "[1, 59, 87, 39, 23, 2, 432, 12, 58, 92]\n"
     ]
    }
   ],
   "source": [
    "#6\n",
    "final_list=[]\n",
    "list1=[1,32,59,87,39,23,18,42]\n",
    "list2=[2,21,3201,21,432,12,58,92,75]\n",
    "for i in list1:\n",
    "    if(i%2!=0):\n",
    "        final_list.append(i)\n",
    "for j in list2:\n",
    "    if(j%2==0):\n",
    "        final_list.append(j)\n",
    "print(final_list)\n"
   ]
  },
  {
   "cell_type": "code",
   "execution_count": 39,
   "id": "64a467e8",
   "metadata": {},
   "outputs": [
    {
     "name": "stdout",
     "output_type": "stream",
     "text": [
      "Element Repetition\n",
      "2    5\n",
      "3    5\n",
      "0    4\n",
      "4    3\n",
      "1    2\n",
      "6    2\n",
      "5    1\n",
      "7    1\n",
      "dtype: int64\n"
     ]
    }
   ],
   "source": [
    "#7\n",
    "import pandas as pd\n",
    "list=[2,3,2,1,2,3,4,3,2,2,1,3,5,6,4,6,7,4,3,0,0,0,0]\n",
    "index=pd.Series(list).value_counts()\n",
    "print('Element Repetition')\n",
    "print(index)"
   ]
  },
  {
   "cell_type": "code",
   "execution_count": 122,
   "id": "e19ccdc0",
   "metadata": {},
   "outputs": [
    {
     "name": "stdout",
     "output_type": "stream",
     "text": [
      "[1, 2, 3, 4]\n",
      "[2321, 432, 21312, 432123]\n"
     ]
    }
   ],
   "source": [
    "import itertools\n",
    "intersection_list=[]\n",
    "set1=[1,2,3,4,2321,432,21312,432123,321]\n",
    "set2=[1,2,3,4,213,53]\n",
    "for i,j in zip(set1,set2):\n",
    "    if i==j:\n",
    "        intersection_list.append(i)\n",
    "print(intersection_list)\n",
    "for g in intersection_list[:]:\n",
    "    if g in list1:\n",
    "        list1.remove(g)\n",
    "print(list1)\n",
    "        "
   ]
  }
 ],
 "metadata": {
  "kernelspec": {
   "display_name": "Python 3 (ipykernel)",
   "language": "python",
   "name": "python3"
  },
  "language_info": {
   "codemirror_mode": {
    "name": "ipython",
    "version": 3
   },
   "file_extension": ".py",
   "mimetype": "text/x-python",
   "name": "python",
   "nbconvert_exporter": "python",
   "pygments_lexer": "ipython3",
   "version": "3.9.12"
  },
  "varInspector": {
   "cols": {
    "lenName": 16,
    "lenType": 16,
    "lenVar": 40
   },
   "kernels_config": {
    "python": {
     "delete_cmd_postfix": "",
     "delete_cmd_prefix": "del ",
     "library": "var_list.py",
     "varRefreshCmd": "print(var_dic_list())"
    },
    "r": {
     "delete_cmd_postfix": ") ",
     "delete_cmd_prefix": "rm(",
     "library": "var_list.r",
     "varRefreshCmd": "cat(var_dic_list()) "
    }
   },
   "types_to_exclude": [
    "module",
    "function",
    "builtin_function_or_method",
    "instance",
    "_Feature"
   ],
   "window_display": false
  }
 },
 "nbformat": 4,
 "nbformat_minor": 5
}
